{
  "nbformat": 4,
  "nbformat_minor": 0,
  "metadata": {
    "colab": {
      "provenance": [],
      "authorship_tag": "ABX9TyP61EpTU9L4y0a2+nDxuV0q",
      "include_colab_link": true
    },
    "kernelspec": {
      "name": "python3",
      "display_name": "Python 3"
    },
    "language_info": {
      "name": "python"
    }
  },
  "cells": [
    {
      "cell_type": "markdown",
      "metadata": {
        "id": "view-in-github",
        "colab_type": "text"
      },
      "source": [
        "<a href=\"https://colab.research.google.com/github/pkro/math_shorts/blob/main/highschool_math_with_python.ipynb\" target=\"_parent\"><img src=\"https://colab.research.google.com/assets/colab-badge.svg\" alt=\"Open In Colab\"/></a>"
      ]
    },
    {
      "cell_type": "markdown",
      "source": [
        "# college algebra with python follow along"
      ],
      "metadata": {
        "id": "cSlRv02FNUe5"
      }
    },
    {
      "cell_type": "markdown",
      "source": [
        "## proportions\n",
        "\n",
        "### Definitions / notes\n",
        "\n",
        "- ratio is another name for fraction, example: 3/4\n",
        "- a proportion is 2 equal ratios, e.g. 3/4 = 6/8\n",
        "\n",
        "\\begin{equation}\n",
        "\\frac{3}{4} = \\frac{6}{8}\n",
        "\\end{equation}\n",
        "\n",
        "Proof by cross-multiplication: 3 * 8 = 4 * 6 6\n",
        "\n",
        "This gives a way to solve equations easily:\n",
        "\n",
        "$\\frac{3}{4} = \\frac{x}{8}$\n",
        "\n",
        "3 * 8 = 4 * x\n",
        "24 = 4 * x # / 4\n",
        "6 = x\n",
        "\n",
        "or, in one step:\n",
        "$3 * 8 / 4 = x$"
      ],
      "metadata": {
        "id": "RwoqlW_fNdGC"
      }
    },
    {
      "cell_type": "markdown",
      "source": [
        "### Proportion solver in python\n",
        "\n",
        "- n = numerator\n",
        "- d = denominator\n",
        "\n",
        "$\\frac{n1}{d1}=\\frac{n2}{d2}$"
      ],
      "metadata": {
        "id": "bnlituujRt8K"
      }
    },
    {
      "cell_type": "code",
      "source": [
        "n1 = 4; n2 = 4\n",
        "d1 = 0; d2 = 8\n",
        "\n",
        "if n1 == 0:\n",
        "  variable = \"n1\"; answer = (d1 * n2) / d2\n",
        "\n",
        "if n2 == 0:\n",
        "  variable = \"n2\"; answer = (n1 * d2) / d1\n",
        "\n",
        "if d1 == 0:\n",
        "  variable = \"d1\"; answer = n1 * d2 / n2 # no difference if the variable is the denominator!\n",
        "\n",
        "if d2 == 0:\n",
        "  variable = \"d2\"; answer = d1 * n2 / n1\n",
        "\n",
        "print(\"{variable} = {answer}\".format(variable=variable, answer=answer))\n",
        "\n"
      ],
      "metadata": {
        "colab": {
          "base_uri": "https://localhost:8080/"
        },
        "id": "R30LjEL-Rwfc",
        "outputId": "324728e9-7126-491f-a203-aa15b3a5c3e2"
      },
      "execution_count": 6,
      "outputs": [
        {
          "output_type": "stream",
          "name": "stdout",
          "text": [
            "d1 = 8.0\n"
          ]
        }
      ]
    }
  ]
}